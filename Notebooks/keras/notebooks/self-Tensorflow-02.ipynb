{
 "cells": [
  {
   "cell_type": "markdown",
   "id": "8126ff39-f3c0-4081-9082-883a3005cff0",
   "metadata": {},
   "source": [
    "# Check if Tensorflow is Installed "
   ]
  },
  {
   "cell_type": "code",
   "execution_count": 1,
   "id": "514b17d9-2176-42e1-931e-c631fdf7caf0",
   "metadata": {},
   "outputs": [],
   "source": [
    "import tensorflow as tf"
   ]
  },
  {
   "cell_type": "code",
   "execution_count": 2,
   "id": "cc13a7a0-c44c-404e-a363-026cb3e3c49c",
   "metadata": {},
   "outputs": [
    {
     "name": "stdout",
     "output_type": "stream",
     "text": [
      "2.6.0\n"
     ]
    }
   ],
   "source": [
    "print(tf.__version__)"
   ]
  },
  {
   "cell_type": "markdown",
   "id": "1181e96c-181e-401b-b878-2e78083271a2",
   "metadata": {},
   "source": [
    "# Working with Tensor Board "
   ]
  },
  {
   "cell_type": "code",
   "execution_count": 3,
   "id": "dbd727b6-a043-45f4-b58f-140787b3fb65",
   "metadata": {},
   "outputs": [],
   "source": [
    "%load_ext tensorboard"
   ]
  },
  {
   "cell_type": "code",
   "execution_count": 4,
   "id": "bceea2b3-eb38-46aa-83b2-fd0c28e61ba7",
   "metadata": {},
   "outputs": [],
   "source": [
    "import datetime "
   ]
  },
  {
   "cell_type": "code",
   "execution_count": 5,
   "id": "021a5116-788b-49c9-ae88-3b52a4c49fe3",
   "metadata": {},
   "outputs": [],
   "source": [
    "mnist = tf.keras.datasets.mnist\n",
    "\n",
    "(x_train, y_train), (x_test, y_test) = mnist.load_data()\n",
    "x_train, x_test = x_train / 255.0, x_test / 255.0"
   ]
  },
  {
   "cell_type": "code",
   "execution_count": 9,
   "id": "25613262-e4f9-45f6-86ab-d0bc7b1a9089",
   "metadata": {},
   "outputs": [],
   "source": [
    "model = tf.keras.models.Sequential([\n",
    "  tf.keras.layers.Flatten(input_shape=(28, 28)),\n",
    "  tf.keras.layers.Dense(128, activation='relu'),\n",
    "  # tf.keras.layers.Dropout(0.2),\n",
    "  tf.keras.layers.Dense(10)\n",
    "])"
   ]
  },
  {
   "cell_type": "code",
   "execution_count": 10,
   "id": "626edbf3-849a-4c01-a828-2395fafb8020",
   "metadata": {},
   "outputs": [
    {
     "data": {
      "text/plain": [
       "array([[ 0.93008506, -0.6932407 ,  0.01290188,  0.34215674, -0.80586356,\n",
       "         0.6326259 , -0.14202678, -0.01931104,  0.04895042, -0.21303195]],\n",
       "      dtype=float32)"
      ]
     },
     "execution_count": 10,
     "metadata": {},
     "output_type": "execute_result"
    }
   ],
   "source": [
    "predictions = model(x_train[:1]).numpy()\n",
    "predictions"
   ]
  },
  {
   "cell_type": "code",
   "execution_count": 11,
   "id": "cb7559e2-8d2e-44e3-ad56-cad4fc83bbc4",
   "metadata": {},
   "outputs": [
    {
     "data": {
      "text/plain": [
       "array([[0.22057071, 0.04350572, 0.08814958, 0.12252194, 0.03887183,\n",
       "        0.16381851, 0.07549802, 0.08535527, 0.09138522, 0.07032318]],\n",
       "      dtype=float32)"
      ]
     },
     "execution_count": 11,
     "metadata": {},
     "output_type": "execute_result"
    }
   ],
   "source": [
    "tf.nn.softmax(predictions).numpy()"
   ]
  },
  {
   "cell_type": "code",
   "execution_count": 13,
   "id": "7b67a82a-97d1-47fa-9bdc-44a5337d3c6f",
   "metadata": {},
   "outputs": [],
   "source": [
    "loss_fn = tf.keras.losses.SparseCategoricalCrossentropy(from_logits=True)"
   ]
  },
  {
   "cell_type": "code",
   "execution_count": 14,
   "id": "c1c03e65-140c-43b0-be82-4f104980d19a",
   "metadata": {},
   "outputs": [
    {
     "data": {
      "text/plain": [
       "1.8089962"
      ]
     },
     "execution_count": 14,
     "metadata": {},
     "output_type": "execute_result"
    }
   ],
   "source": [
    "loss_fn(y_train[:1], predictions).numpy()"
   ]
  },
  {
   "cell_type": "code",
   "execution_count": 22,
   "id": "d0e78751-994b-4999-96c4-b01a11a3bb6f",
   "metadata": {},
   "outputs": [],
   "source": [
    "model.compile(optimizer='adam',\n",
    "              loss=loss_fn,\n",
    "              metrics=['accuracy'])"
   ]
  },
  {
   "cell_type": "code",
   "execution_count": 23,
   "id": "cb72e948-76c2-4bdd-9798-9b2d093170f5",
   "metadata": {},
   "outputs": [
    {
     "name": "stderr",
     "output_type": "stream",
     "text": [
      "2021-09-14 10:00:19.422817: I tensorflow/core/profiler/lib/profiler_session.cc:131] Profiler session initializing.\n",
      "2021-09-14 10:00:19.422845: I tensorflow/core/profiler/lib/profiler_session.cc:146] Profiler session started.\n",
      "2021-09-14 10:00:19.438576: I tensorflow/core/profiler/lib/profiler_session.cc:164] Profiler session tear down.\n",
      "2021-09-14 10:00:19.438834: I tensorflow/core/profiler/internal/gpu/cupti_tracer.cc:1748] CUPTI activity buffer flushed\n"
     ]
    }
   ],
   "source": [
    "log_dir = \"logs/fit/\" + datetime.datetime.now().strftime(\"%Y%m%d-%H%M%S\")\n",
    "tensorboard_callback = tf.keras.callbacks.TensorBoard(log_dir=log_dir, histogram_freq=1)"
   ]
  },
  {
   "cell_type": "code",
   "execution_count": 24,
   "id": "84769dc4-f27e-4f04-9911-bc06c35e16a1",
   "metadata": {},
   "outputs": [
    {
     "name": "stdout",
     "output_type": "stream",
     "text": [
      "Epoch 1/20\n",
      "   3/1875 [..............................] - ETA: 2:44 - loss: 0.0433 - accuracy: 0.9896"
     ]
    },
    {
     "name": "stderr",
     "output_type": "stream",
     "text": [
      "2021-09-14 10:00:20.469583: I tensorflow/core/profiler/lib/profiler_session.cc:131] Profiler session initializing.\n",
      "2021-09-14 10:00:20.469609: I tensorflow/core/profiler/lib/profiler_session.cc:146] Profiler session started.\n",
      "2021-09-14 10:00:20.516011: I tensorflow/core/profiler/lib/profiler_session.cc:66] Profiler session collecting data.\n",
      "2021-09-14 10:00:20.516246: I tensorflow/core/profiler/internal/gpu/cupti_tracer.cc:1748] CUPTI activity buffer flushed\n",
      "2021-09-14 10:00:20.623429: I tensorflow/core/profiler/internal/gpu/cupti_collector.cc:673]  GpuTracer has collected 0 callback api events and 0 activity events. \n",
      "2021-09-14 10:00:20.625687: I tensorflow/core/profiler/lib/profiler_session.cc:164] Profiler session tear down.\n",
      "2021-09-14 10:00:20.629007: I tensorflow/core/profiler/rpc/client/save_profile.cc:136] Creating directory: logs/fit/20210914-100019/train/plugins/profile/2021_09_14_10_00_20\n",
      "\n",
      "2021-09-14 10:00:20.630909: I tensorflow/core/profiler/rpc/client/save_profile.cc:142] Dumped gzipped tool data for trace.json.gz to logs/fit/20210914-100019/train/plugins/profile/2021_09_14_10_00_20/iffishells.trace.json.gz\n",
      "2021-09-14 10:00:20.633359: I tensorflow/core/profiler/rpc/client/save_profile.cc:136] Creating directory: logs/fit/20210914-100019/train/plugins/profile/2021_09_14_10_00_20\n",
      "\n",
      "2021-09-14 10:00:20.633581: I tensorflow/core/profiler/rpc/client/save_profile.cc:142] Dumped gzipped tool data for memory_profile.json.gz to logs/fit/20210914-100019/train/plugins/profile/2021_09_14_10_00_20/iffishells.memory_profile.json.gz\n",
      "2021-09-14 10:00:20.634192: I tensorflow/core/profiler/rpc/client/capture_profile.cc:251] Creating directory: logs/fit/20210914-100019/train/plugins/profile/2021_09_14_10_00_20\n",
      "Dumped tool data for xplane.pb to logs/fit/20210914-100019/train/plugins/profile/2021_09_14_10_00_20/iffishells.xplane.pb\n",
      "Dumped tool data for overview_page.pb to logs/fit/20210914-100019/train/plugins/profile/2021_09_14_10_00_20/iffishells.overview_page.pb\n",
      "Dumped tool data for input_pipeline.pb to logs/fit/20210914-100019/train/plugins/profile/2021_09_14_10_00_20/iffishells.input_pipeline.pb\n",
      "Dumped tool data for tensorflow_stats.pb to logs/fit/20210914-100019/train/plugins/profile/2021_09_14_10_00_20/iffishells.tensorflow_stats.pb\n",
      "Dumped tool data for kernel_stats.pb to logs/fit/20210914-100019/train/plugins/profile/2021_09_14_10_00_20/iffishells.kernel_stats.pb\n",
      "\n"
     ]
    },
    {
     "name": "stdout",
     "output_type": "stream",
     "text": [
      "1875/1875 [==============================] - 2s 916us/step - loss: 0.0388 - accuracy: 0.9880\n",
      "Epoch 2/20\n",
      "1875/1875 [==============================] - 2s 978us/step - loss: 0.0286 - accuracy: 0.9911\n",
      "Epoch 3/20\n",
      "1875/1875 [==============================] - 2s 871us/step - loss: 0.0231 - accuracy: 0.9926\n",
      "Epoch 4/20\n",
      "1875/1875 [==============================] - 2s 803us/step - loss: 0.0199 - accuracy: 0.99370s -\n",
      "Epoch 5/20\n",
      "1875/1875 [==============================] - 2s 848us/step - loss: 0.0166 - accuracy: 0.9947\n",
      "Epoch 6/20\n",
      "1875/1875 [==============================] - 2s 863us/step - loss: 0.0145 - accuracy: 0.9953\n",
      "Epoch 7/20\n",
      "1875/1875 [==============================] - 2s 842us/step - loss: 0.0115 - accuracy: 0.9965\n",
      "Epoch 8/20\n",
      "1875/1875 [==============================] - 2s 869us/step - loss: 0.0104 - accuracy: 0.9967\n",
      "Epoch 9/20\n",
      "1875/1875 [==============================] - 2s 841us/step - loss: 0.0092 - accuracy: 0.9974\n",
      "Epoch 10/20\n",
      "1875/1875 [==============================] - 2s 917us/step - loss: 0.0087 - accuracy: 0.9970\n",
      "Epoch 11/20\n",
      "1875/1875 [==============================] - 2s 851us/step - loss: 0.0065 - accuracy: 0.9978\n",
      "Epoch 12/20\n",
      "1875/1875 [==============================] - 2s 859us/step - loss: 0.0066 - accuracy: 0.9979\n",
      "Epoch 13/20\n",
      "1875/1875 [==============================] - 2s 843us/step - loss: 0.0069 - accuracy: 0.9977\n",
      "Epoch 14/20\n",
      "1875/1875 [==============================] - 2s 994us/step - loss: 0.0055 - accuracy: 0.9982\n",
      "Epoch 15/20\n",
      "1875/1875 [==============================] - 2s 933us/step - loss: 0.0061 - accuracy: 0.9982\n",
      "Epoch 16/20\n",
      "1875/1875 [==============================] - 2s 848us/step - loss: 0.0051 - accuracy: 0.9982\n",
      "Epoch 17/20\n",
      "1875/1875 [==============================] - 2s 857us/step - loss: 0.0066 - accuracy: 0.9978\n",
      "Epoch 18/20\n",
      "1875/1875 [==============================] - 2s 838us/step - loss: 0.0036 - accuracy: 0.9989\n",
      "Epoch 19/20\n",
      "1875/1875 [==============================] - 2s 857us/step - loss: 0.0038 - accuracy: 0.9989\n",
      "Epoch 20/20\n",
      "1875/1875 [==============================] - 2s 880us/step - loss: 0.0045 - accuracy: 0.9986\n"
     ]
    },
    {
     "data": {
      "text/plain": [
       "<keras.callbacks.History at 0x7fea9c36cd30>"
      ]
     },
     "execution_count": 24,
     "metadata": {},
     "output_type": "execute_result"
    }
   ],
   "source": [
    "model.fit(x_train, y_train, epochs=20, callbacks=[tensorboard_callback])"
   ]
  },
  {
   "cell_type": "code",
   "execution_count": 25,
   "id": "2060a3b4-1b29-47c4-9d77-0d825a150227",
   "metadata": {},
   "outputs": [
    {
     "name": "stdout",
     "output_type": "stream",
     "text": [
      "313/313 - 0s - loss: 0.1132 - accuracy: 0.9786\n"
     ]
    },
    {
     "data": {
      "text/plain": [
       "[0.11320865154266357, 0.978600025177002]"
      ]
     },
     "execution_count": 25,
     "metadata": {},
     "output_type": "execute_result"
    }
   ],
   "source": [
    "model.evaluate(x_test,  y_test, verbose=2)"
   ]
  },
  {
   "cell_type": "code",
   "execution_count": 26,
   "id": "d8fcfea5-2cb3-4228-9cc6-7e26513cab83",
   "metadata": {},
   "outputs": [
    {
     "data": {
      "text/plain": [
       "Reusing TensorBoard on port 6006 (pid 759192), started 0:03:38 ago. (Use '!kill 759192' to kill it.)"
      ]
     },
     "metadata": {},
     "output_type": "display_data"
    },
    {
     "data": {
      "text/html": [
       "\n",
       "      <iframe id=\"tensorboard-frame-13832858439b364c\" width=\"100%\" height=\"800\" frameborder=\"0\">\n",
       "      </iframe>\n",
       "      <script>\n",
       "        (function() {\n",
       "          const frame = document.getElementById(\"tensorboard-frame-13832858439b364c\");\n",
       "          const url = new URL(\"/\", window.location);\n",
       "          const port = 6006;\n",
       "          if (port) {\n",
       "            url.port = port;\n",
       "          }\n",
       "          frame.src = url;\n",
       "        })();\n",
       "      </script>\n",
       "    "
      ],
      "text/plain": [
       "<IPython.core.display.HTML object>"
      ]
     },
     "metadata": {},
     "output_type": "display_data"
    }
   ],
   "source": [
    "%tensorboard --logdir logs/fit "
   ]
  },
  {
   "cell_type": "code",
   "execution_count": null,
   "id": "f80c88f3-7cd8-4341-89c5-5f44192b5565",
   "metadata": {},
   "outputs": [],
   "source": []
  }
 ],
 "metadata": {
  "kernelspec": {
   "display_name": "Python 3 (ipykernel)",
   "language": "python",
   "name": "python3"
  },
  "language_info": {
   "codemirror_mode": {
    "name": "ipython",
    "version": 3
   },
   "file_extension": ".py",
   "mimetype": "text/x-python",
   "name": "python",
   "nbconvert_exporter": "python",
   "pygments_lexer": "ipython3",
   "version": "3.8.11"
  }
 },
 "nbformat": 4,
 "nbformat_minor": 5
}

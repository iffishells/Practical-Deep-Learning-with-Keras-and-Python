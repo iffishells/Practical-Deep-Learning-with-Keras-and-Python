{
 "cells": [
  {
   "cell_type": "markdown",
   "id": "15f392b1-bd79-4603-8f45-8235acca6756",
   "metadata": {},
   "source": [
    "# Data preparation"
   ]
  },
  {
   "cell_type": "code",
   "execution_count": 26,
   "id": "82fddfa0-be31-44e6-9c8d-8b42b91907d3",
   "metadata": {},
   "outputs": [],
   "source": [
    "import numpy as np\n",
    "np.random.seed(1999) # for repprodceability"
   ]
  },
  {
   "cell_type": "code",
   "execution_count": 27,
   "id": "2bb59fb1-20d2-40a6-bf73-5eb988b1d8ab",
   "metadata": {},
   "outputs": [],
   "source": [
    "import tensorflow \n",
    "from tensorflow.keras.datasets import  mnist\n"
   ]
  },
  {
   "cell_type": "code",
   "execution_count": 28,
   "id": "0e4032a9-acb0-4578-9588-14a977dc986f",
   "metadata": {},
   "outputs": [],
   "source": [
    "from tensorflow.keras.models import Sequential\n",
    "from tensorflow.keras.layers import Dense\n",
    "from tensorflow.keras.optimizers import SGD\n",
    "\n",
    "# observation\n",
    "#  * Sequentional is model and dense is the hidden layer \n",
    "#     in the neural network and optimize selected SGD actually\n",
    "#     adjusting the value of the theta.\n"
   ]
  },
  {
   "cell_type": "code",
   "execution_count": 29,
   "id": "cd0aeb2f-204f-48f4-9317-017f89ee9784",
   "metadata": {},
   "outputs": [],
   "source": [
    "num_classes = 10 # types of output\n",
    "batch_size = 128 # size of box\n",
    "epochs = 20 # times of run the model"
   ]
  },
  {
   "cell_type": "code",
   "execution_count": 30,
   "id": "384e41e4-2b78-4673-8c9e-5175b3469302",
   "metadata": {},
   "outputs": [],
   "source": [
    "# data splitation\n",
    "(x_train ,y_train) ,(x_test , y_test) = mnist.load_data()"
   ]
  },
  {
   "cell_type": "code",
   "execution_count": 31,
   "id": "e6ee39eb-aaab-4a30-9d82-18165457aceb",
   "metadata": {},
   "outputs": [
    {
     "name": "stdout",
     "output_type": "stream",
     "text": [
      "(60000, 28, 28) (60000,) (10000, 28, 28) (10000,)\n"
     ]
    }
   ],
   "source": [
    "print(x_train.shape, y_train.shape, x_test.shape, y_test.shape)\n"
   ]
  },
  {
   "cell_type": "code",
   "execution_count": 32,
   "id": "10c6fc99-c93a-4ca3-8599-f72d737b1f22",
   "metadata": {},
   "outputs": [
    {
     "data": {
      "text/plain": [
       "(28, 28)"
      ]
     },
     "execution_count": 32,
     "metadata": {},
     "output_type": "execute_result"
    }
   ],
   "source": [
    "x_train[0].shape"
   ]
  },
  {
   "cell_type": "code",
   "execution_count": 33,
   "id": "f2ceed51-e077-4a38-a5e0-a30e293832f2",
   "metadata": {},
   "outputs": [
    {
     "name": "stdout",
     "output_type": "stream",
     "text": [
      "60000 train samples\n",
      "10000 test samples\n"
     ]
    }
   ],
   "source": [
    "x_train = x_train.reshape(60000, 784)  # 28x28 = 784\n",
    "x_test = x_test.reshape(10000, 784)\n",
    "\n",
    "x_train = x_train.astype('float32') \n",
    "x_test = x_test.astype('float32') \n",
    "\n",
    "x_train /= 255  # 0 - 255 ...  0-1 \n",
    "x_test /= 255   # normalizing your data \n",
    "\n",
    "\n",
    "print(x_train.shape[0], 'train samples')\n",
    "print(x_test.shape[0], 'test samples')"
   ]
  },
  {
   "cell_type": "code",
   "execution_count": 34,
   "id": "db54c654-fd11-4695-8379-117d5404cefa",
   "metadata": {},
   "outputs": [
    {
     "name": "stdout",
     "output_type": "stream",
     "text": [
      "(60000, 784)\n",
      "(60000,)\n"
     ]
    }
   ],
   "source": [
    "print(x_train.shape)\n",
    "print(y_train.shape)"
   ]
  },
  {
   "cell_type": "code",
   "execution_count": 35,
   "id": "40729a48-3b2e-43d3-8dd1-a25774d7218f",
   "metadata": {},
   "outputs": [
    {
     "name": "stdout",
     "output_type": "stream",
     "text": [
      "(10000, 784)\n",
      "(10000,)\n"
     ]
    }
   ],
   "source": [
    "print(x_test.shape)\n",
    "print(y_test.shape)"
   ]
  },
  {
   "cell_type": "code",
   "execution_count": 36,
   "id": "d8fd9188-d233-4b49-838f-fbc297fe1b60",
   "metadata": {},
   "outputs": [
    {
     "name": "stdout",
     "output_type": "stream",
     "text": [
      "4\n"
     ]
    }
   ],
   "source": [
    "print(y_train[2])"
   ]
  },
  {
   "cell_type": "code",
   "execution_count": 37,
   "id": "32b587d6-273c-484b-a5b2-86a23787e9a8",
   "metadata": {},
   "outputs": [],
   "source": [
    "# convert class vectors to binary class matrices\n",
    "y_train = tensorflow.keras.utils.to_categorical(y_train, num_classes)\n",
    "y_test = tensorflow.keras.utils.to_categorical(y_test, num_classes)"
   ]
  },
  {
   "cell_type": "code",
   "execution_count": 38,
   "id": "05208781-b39f-48bd-9acf-f5ed20c5ad18",
   "metadata": {},
   "outputs": [
    {
     "name": "stdout",
     "output_type": "stream",
     "text": [
      "[0. 0. 0. 0. 0. 1. 0. 0. 0. 0.]\n"
     ]
    }
   ],
   "source": [
    "print(y_train[11])"
   ]
  },
  {
   "cell_type": "code",
   "execution_count": 40,
   "id": "396e2808-2394-478e-8f33-ac6c6d96509e",
   "metadata": {},
   "outputs": [],
   "source": [
    "# lets work on the model\n",
    "model = Sequential()"
   ]
  },
  {
   "cell_type": "code",
   "execution_count": 46,
   "id": "46b8e7a6-6b86-45f5-ace7-66cf440187aa",
   "metadata": {},
   "outputs": [],
   "source": [
    "model.add(Dense(512 ,activation='relu',input_shape = (784,)))\n",
    "model.add(Dense(512 , activation='relu',))\n",
    "model.add((Dense(num_classes , activation='softmax')))\n",
    "\n",
    "# observation \n",
    "# Activation function convert it into the different range \n",
    "# and input shape is the number of node in the frist layer\n"
   ]
  },
  {
   "cell_type": "code",
   "execution_count": 48,
   "id": "deec39f6-45f3-4078-993c-8109f016f957",
   "metadata": {},
   "outputs": [
    {
     "data": {
      "text/plain": [
       "(60000, 784)"
      ]
     },
     "execution_count": 48,
     "metadata": {},
     "output_type": "execute_result"
    }
   ],
   "source": [
    "x_train.shape # shape of input : parameter in the above model"
   ]
  },
  {
   "cell_type": "code",
   "execution_count": 50,
   "id": "ad59acd6-cf0a-4624-822a-0ef8e44feaca",
   "metadata": {},
   "outputs": [
    {
     "name": "stdout",
     "output_type": "stream",
     "text": [
      "Model: \"sequential_1\"\n",
      "_________________________________________________________________\n",
      "Layer (type)                 Output Shape              Param #   \n",
      "=================================================================\n",
      "dense (Dense)                (None, 512)               401920    \n",
      "_________________________________________________________________\n",
      "dense_1 (Dense)              (None, 512)               262656    \n",
      "_________________________________________________________________\n",
      "dense_2 (Dense)              (None, 512)               262656    \n",
      "_________________________________________________________________\n",
      "dense_3 (Dense)              (None, 512)               262656    \n",
      "_________________________________________________________________\n",
      "dense_4 (Dense)              (None, 10)                5130      \n",
      "=================================================================\n",
      "Total params: 1,195,018\n",
      "Trainable params: 1,195,018\n",
      "Non-trainable params: 0\n",
      "_________________________________________________________________\n"
     ]
    }
   ],
   "source": [
    "model.summary()"
   ]
  },
  {
   "cell_type": "code",
   "execution_count": 52,
   "id": "e36dad22-d1ed-4510-9329-5878be313bef",
   "metadata": {},
   "outputs": [],
   "source": [
    "# model compilcaton\n",
    "\n",
    "model.compile(loss = 'categorical_crossentropy',\n",
    "             optimizer=SGD(), metrics =['accuracy'])"
   ]
  },
  {
   "cell_type": "code",
   "execution_count": 53,
   "id": "1e75cb4d-2429-4151-bbdf-71e8a7b8c0a0",
   "metadata": {},
   "outputs": [
    {
     "name": "stderr",
     "output_type": "stream",
     "text": [
      "2021-09-14 09:42:50.110517: I tensorflow/compiler/mlir/mlir_graph_optimization_pass.cc:185] None of the MLIR Optimization Passes are enabled (registered 2)\n"
     ]
    },
    {
     "name": "stdout",
     "output_type": "stream",
     "text": [
      "Epoch 1/20\n",
      "469/469 [==============================] - 3s 6ms/step - loss: 1.2902 - accuracy: 0.7065 - val_loss: 0.4945 - val_accuracy: 0.8747\n",
      "Epoch 2/20\n",
      "469/469 [==============================] - 3s 7ms/step - loss: 0.4036 - accuracy: 0.8888 - val_loss: 0.3244 - val_accuracy: 0.9058\n",
      "Epoch 3/20\n",
      "469/469 [==============================] - 3s 6ms/step - loss: 0.3102 - accuracy: 0.9112 - val_loss: 0.2735 - val_accuracy: 0.9192\n",
      "Epoch 4/20\n",
      "469/469 [==============================] - 3s 6ms/step - loss: 0.2689 - accuracy: 0.9224 - val_loss: 0.2508 - val_accuracy: 0.9258\n",
      "Epoch 5/20\n",
      "469/469 [==============================] - 3s 6ms/step - loss: 0.2414 - accuracy: 0.9294 - val_loss: 0.2229 - val_accuracy: 0.9328\n",
      "Epoch 6/20\n",
      "469/469 [==============================] - 3s 6ms/step - loss: 0.2187 - accuracy: 0.9366 - val_loss: 0.2044 - val_accuracy: 0.9384\n",
      "Epoch 7/20\n",
      "469/469 [==============================] - 3s 6ms/step - loss: 0.2001 - accuracy: 0.9419 - val_loss: 0.1942 - val_accuracy: 0.9407\n",
      "Epoch 8/20\n",
      "469/469 [==============================] - 3s 6ms/step - loss: 0.1844 - accuracy: 0.9469 - val_loss: 0.1819 - val_accuracy: 0.9440\n",
      "Epoch 9/20\n",
      "469/469 [==============================] - 3s 6ms/step - loss: 0.1709 - accuracy: 0.9506 - val_loss: 0.1640 - val_accuracy: 0.9506\n",
      "Epoch 10/20\n",
      "469/469 [==============================] - 3s 7ms/step - loss: 0.1581 - accuracy: 0.9546 - val_loss: 0.1610 - val_accuracy: 0.9509\n",
      "Epoch 11/20\n",
      "469/469 [==============================] - 3s 6ms/step - loss: 0.1481 - accuracy: 0.9569 - val_loss: 0.1500 - val_accuracy: 0.9542\n",
      "Epoch 12/20\n",
      "469/469 [==============================] - 3s 6ms/step - loss: 0.1379 - accuracy: 0.9603 - val_loss: 0.1437 - val_accuracy: 0.9566\n",
      "Epoch 13/20\n",
      "469/469 [==============================] - 3s 6ms/step - loss: 0.1297 - accuracy: 0.9627 - val_loss: 0.1366 - val_accuracy: 0.9596\n",
      "Epoch 14/20\n",
      "469/469 [==============================] - 3s 6ms/step - loss: 0.1217 - accuracy: 0.9653 - val_loss: 0.1259 - val_accuracy: 0.9622\n",
      "Epoch 15/20\n",
      "469/469 [==============================] - 4s 9ms/step - loss: 0.1146 - accuracy: 0.9674 - val_loss: 0.1232 - val_accuracy: 0.9635\n",
      "Epoch 16/20\n",
      "469/469 [==============================] - 4s 9ms/step - loss: 0.1083 - accuracy: 0.9691 - val_loss: 0.1175 - val_accuracy: 0.9649\n",
      "Epoch 17/20\n",
      "469/469 [==============================] - 4s 9ms/step - loss: 0.1022 - accuracy: 0.9707 - val_loss: 0.1137 - val_accuracy: 0.9681\n",
      "Epoch 18/20\n",
      "469/469 [==============================] - 4s 9ms/step - loss: 0.0971 - accuracy: 0.9718 - val_loss: 0.1069 - val_accuracy: 0.9687\n",
      "Epoch 19/20\n",
      "469/469 [==============================] - 4s 9ms/step - loss: 0.0917 - accuracy: 0.9742 - val_loss: 0.1077 - val_accuracy: 0.9679\n",
      "Epoch 20/20\n",
      "469/469 [==============================] - 4s 9ms/step - loss: 0.0868 - accuracy: 0.9758 - val_loss: 0.1015 - val_accuracy: 0.9702\n"
     ]
    }
   ],
   "source": [
    "# lets perfrom the learning\n",
    "\n",
    "history = model.fit(x_train , y_train ,\n",
    "                    batch_size = batch_size,\n",
    "                    epochs = epochs ,\n",
    "                   verbose=1 ,\n",
    "                   validation_data=(x_test, y_test))"
   ]
  },
  {
   "cell_type": "code",
   "execution_count": 55,
   "id": "fb847c85-acc7-47fa-950e-4364be2085e4",
   "metadata": {},
   "outputs": [
    {
     "name": "stdout",
     "output_type": "stream",
     "text": [
      "313/313 [==============================] - 0s 2ms/step - loss: 0.1015 - accuracy: 0.9702\n"
     ]
    }
   ],
   "source": [
    "# evaluation \n",
    "score  =  model.evaluate(x_test, y_test)"
   ]
  },
  {
   "cell_type": "code",
   "execution_count": 56,
   "id": "eb1af89e-5327-451f-96f2-a920386e9258",
   "metadata": {},
   "outputs": [
    {
     "data": {
      "text/plain": [
       "0.1014990583062172"
      ]
     },
     "execution_count": 56,
     "metadata": {},
     "output_type": "execute_result"
    }
   ],
   "source": [
    "score[0] "
   ]
  },
  {
   "cell_type": "code",
   "execution_count": 57,
   "id": "da05dbfc-bd9a-4afe-bb6a-be498c2733f8",
   "metadata": {},
   "outputs": [
    {
     "data": {
      "text/plain": [
       "0.9702000021934509"
      ]
     },
     "execution_count": 57,
     "metadata": {},
     "output_type": "execute_result"
    }
   ],
   "source": [
    "score[1] "
   ]
  },
  {
   "cell_type": "code",
   "execution_count": null,
   "id": "8283e43d-9dd8-4e25-aed5-0e39a5cd7d0a",
   "metadata": {},
   "outputs": [],
   "source": []
  }
 ],
 "metadata": {
  "kernelspec": {
   "display_name": "Python 3 (ipykernel)",
   "language": "python",
   "name": "python3"
  },
  "language_info": {
   "codemirror_mode": {
    "name": "ipython",
    "version": 3
   },
   "file_extension": ".py",
   "mimetype": "text/x-python",
   "name": "python",
   "nbconvert_exporter": "python",
   "pygments_lexer": "ipython3",
   "version": "3.8.11"
  }
 },
 "nbformat": 4,
 "nbformat_minor": 5
}

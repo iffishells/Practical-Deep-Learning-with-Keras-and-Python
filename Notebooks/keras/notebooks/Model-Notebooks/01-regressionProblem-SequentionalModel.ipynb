{
 "cells": [
  {
   "cell_type": "code",
   "execution_count": 53,
   "id": "38af8309-77d6-4172-bbba-58222d2d5b96",
   "metadata": {},
   "outputs": [],
   "source": [
    "# lets import lib \n",
    "import pandas as pd\n",
    "import numpy as np\n",
    "import matplotlib.pyplot as plt\n",
    "\n",
    "\n",
    "# frame orkf\n",
    "import tensorflow \n",
    "from tensorflow.keras.models import Sequential\n",
    "from tensorflow.keras.layers import Dense\n",
    "from tensorflow.keras.optimizers import SGD\n",
    "from tensorflow.keras.datasets import mnist\n",
    "from tensorflow.keras.callbacks import EarlyStopping\n",
    "\n",
    "\n",
    "from sklearn.model_selection import train_test_split\n"
   ]
  },
  {
   "cell_type": "code",
   "execution_count": 54,
   "id": "c805d4b3-80ab-40f9-8476-c2f5882baea9",
   "metadata": {},
   "outputs": [],
   "source": [
    "df = pd.read_csv(\"../..//Dataset/predicthourlywage/Income_training.csv\")"
   ]
  },
  {
   "cell_type": "code",
   "execution_count": 55,
   "id": "c30a425a-22d2-4881-ba77-0d96d3e5cf39",
   "metadata": {},
   "outputs": [],
   "source": [
    "tf = pd.read_csv(\"../..//Dataset/predicthourlywage/Income_testing.csv\")"
   ]
  },
  {
   "cell_type": "code",
   "execution_count": 56,
   "id": "9728d9a0-9d25-46bc-a872-39b27bda8010",
   "metadata": {},
   "outputs": [],
   "source": [
    "# test_X = tf[['age','yearsEducation','sex1M0F']] "
   ]
  },
  {
   "cell_type": "code",
   "execution_count": 57,
   "id": "46ccd8fe-36c6-45ae-aedd-73e7b5dd9062",
   "metadata": {},
   "outputs": [
    {
     "data": {
      "text/html": [
       "<div>\n",
       "<style scoped>\n",
       "    .dataframe tbody tr th:only-of-type {\n",
       "        vertical-align: middle;\n",
       "    }\n",
       "\n",
       "    .dataframe tbody tr th {\n",
       "        vertical-align: top;\n",
       "    }\n",
       "\n",
       "    .dataframe thead th {\n",
       "        text-align: right;\n",
       "    }\n",
       "</style>\n",
       "<table border=\"1\" class=\"dataframe\">\n",
       "  <thead>\n",
       "    <tr style=\"text-align: right;\">\n",
       "      <th></th>\n",
       "      <th>compositeHourlyWages</th>\n",
       "      <th>age</th>\n",
       "      <th>yearsEducation</th>\n",
       "      <th>sex1M0F</th>\n",
       "    </tr>\n",
       "  </thead>\n",
       "  <tbody>\n",
       "    <tr>\n",
       "      <th>0</th>\n",
       "      <td>21.38</td>\n",
       "      <td>58</td>\n",
       "      <td>10</td>\n",
       "      <td>1</td>\n",
       "    </tr>\n",
       "    <tr>\n",
       "      <th>1</th>\n",
       "      <td>25.15</td>\n",
       "      <td>42</td>\n",
       "      <td>16</td>\n",
       "      <td>1</td>\n",
       "    </tr>\n",
       "    <tr>\n",
       "      <th>2</th>\n",
       "      <td>8.57</td>\n",
       "      <td>31</td>\n",
       "      <td>12</td>\n",
       "      <td>0</td>\n",
       "    </tr>\n",
       "    <tr>\n",
       "      <th>3</th>\n",
       "      <td>12.07</td>\n",
       "      <td>43</td>\n",
       "      <td>13</td>\n",
       "      <td>0</td>\n",
       "    </tr>\n",
       "    <tr>\n",
       "      <th>4</th>\n",
       "      <td>10.97</td>\n",
       "      <td>46</td>\n",
       "      <td>12</td>\n",
       "      <td>0</td>\n",
       "    </tr>\n",
       "    <tr>\n",
       "      <th>...</th>\n",
       "      <td>...</td>\n",
       "      <td>...</td>\n",
       "      <td>...</td>\n",
       "      <td>...</td>\n",
       "    </tr>\n",
       "    <tr>\n",
       "      <th>3192</th>\n",
       "      <td>14.00</td>\n",
       "      <td>29</td>\n",
       "      <td>14</td>\n",
       "      <td>0</td>\n",
       "    </tr>\n",
       "    <tr>\n",
       "      <th>3193</th>\n",
       "      <td>23.04</td>\n",
       "      <td>56</td>\n",
       "      <td>15</td>\n",
       "      <td>0</td>\n",
       "    </tr>\n",
       "    <tr>\n",
       "      <th>3194</th>\n",
       "      <td>10.00</td>\n",
       "      <td>61</td>\n",
       "      <td>8</td>\n",
       "      <td>1</td>\n",
       "    </tr>\n",
       "    <tr>\n",
       "      <th>3195</th>\n",
       "      <td>10.00</td>\n",
       "      <td>40</td>\n",
       "      <td>15</td>\n",
       "      <td>0</td>\n",
       "    </tr>\n",
       "    <tr>\n",
       "      <th>3196</th>\n",
       "      <td>6.57</td>\n",
       "      <td>28</td>\n",
       "      <td>13</td>\n",
       "      <td>0</td>\n",
       "    </tr>\n",
       "  </tbody>\n",
       "</table>\n",
       "<p>3197 rows × 4 columns</p>\n",
       "</div>"
      ],
      "text/plain": [
       "      compositeHourlyWages  age  yearsEducation  sex1M0F\n",
       "0                    21.38   58              10        1\n",
       "1                    25.15   42              16        1\n",
       "2                     8.57   31              12        0\n",
       "3                    12.07   43              13        0\n",
       "4                    10.97   46              12        0\n",
       "...                    ...  ...             ...      ...\n",
       "3192                 14.00   29              14        0\n",
       "3193                 23.04   56              15        0\n",
       "3194                 10.00   61               8        1\n",
       "3195                 10.00   40              15        0\n",
       "3196                  6.57   28              13        0\n",
       "\n",
       "[3197 rows x 4 columns]"
      ]
     },
     "execution_count": 57,
     "metadata": {},
     "output_type": "execute_result"
    }
   ],
   "source": [
    "df"
   ]
  },
  {
   "cell_type": "code",
   "execution_count": 58,
   "id": "7408e71d-db93-4099-b002-b771abc56167",
   "metadata": {},
   "outputs": [],
   "source": [
    "X = df[['age','yearsEducation','sex1M0F']]\n"
   ]
  },
  {
   "cell_type": "code",
   "execution_count": 59,
   "id": "a9dc9957-5b72-4269-8d47-868e9671f3b6",
   "metadata": {},
   "outputs": [
    {
     "data": {
      "text/html": [
       "<div>\n",
       "<style scoped>\n",
       "    .dataframe tbody tr th:only-of-type {\n",
       "        vertical-align: middle;\n",
       "    }\n",
       "\n",
       "    .dataframe tbody tr th {\n",
       "        vertical-align: top;\n",
       "    }\n",
       "\n",
       "    .dataframe thead th {\n",
       "        text-align: right;\n",
       "    }\n",
       "</style>\n",
       "<table border=\"1\" class=\"dataframe\">\n",
       "  <thead>\n",
       "    <tr style=\"text-align: right;\">\n",
       "      <th></th>\n",
       "      <th>age</th>\n",
       "      <th>yearsEducation</th>\n",
       "      <th>sex1M0F</th>\n",
       "    </tr>\n",
       "  </thead>\n",
       "  <tbody>\n",
       "    <tr>\n",
       "      <th>0</th>\n",
       "      <td>58</td>\n",
       "      <td>10</td>\n",
       "      <td>1</td>\n",
       "    </tr>\n",
       "    <tr>\n",
       "      <th>1</th>\n",
       "      <td>42</td>\n",
       "      <td>16</td>\n",
       "      <td>1</td>\n",
       "    </tr>\n",
       "    <tr>\n",
       "      <th>2</th>\n",
       "      <td>31</td>\n",
       "      <td>12</td>\n",
       "      <td>0</td>\n",
       "    </tr>\n",
       "  </tbody>\n",
       "</table>\n",
       "</div>"
      ],
      "text/plain": [
       "   age  yearsEducation  sex1M0F\n",
       "0   58              10        1\n",
       "1   42              16        1\n",
       "2   31              12        0"
      ]
     },
     "execution_count": 59,
     "metadata": {},
     "output_type": "execute_result"
    }
   ],
   "source": [
    "X.head(3)"
   ]
  },
  {
   "cell_type": "code",
   "execution_count": 60,
   "id": "15cc73ad-4f78-4133-aef3-6efc3bea6677",
   "metadata": {},
   "outputs": [],
   "source": [
    "y = df[['compositeHourlyWages']]"
   ]
  },
  {
   "cell_type": "code",
   "execution_count": 61,
   "id": "b5468b5f-9ef8-474b-8c16-e64ad10d92a1",
   "metadata": {},
   "outputs": [
    {
     "data": {
      "text/html": [
       "<div>\n",
       "<style scoped>\n",
       "    .dataframe tbody tr th:only-of-type {\n",
       "        vertical-align: middle;\n",
       "    }\n",
       "\n",
       "    .dataframe tbody tr th {\n",
       "        vertical-align: top;\n",
       "    }\n",
       "\n",
       "    .dataframe thead th {\n",
       "        text-align: right;\n",
       "    }\n",
       "</style>\n",
       "<table border=\"1\" class=\"dataframe\">\n",
       "  <thead>\n",
       "    <tr style=\"text-align: right;\">\n",
       "      <th></th>\n",
       "      <th>compositeHourlyWages</th>\n",
       "    </tr>\n",
       "  </thead>\n",
       "  <tbody>\n",
       "    <tr>\n",
       "      <th>0</th>\n",
       "      <td>21.38</td>\n",
       "    </tr>\n",
       "    <tr>\n",
       "      <th>1</th>\n",
       "      <td>25.15</td>\n",
       "    </tr>\n",
       "    <tr>\n",
       "      <th>2</th>\n",
       "      <td>8.57</td>\n",
       "    </tr>\n",
       "    <tr>\n",
       "      <th>3</th>\n",
       "      <td>12.07</td>\n",
       "    </tr>\n",
       "    <tr>\n",
       "      <th>4</th>\n",
       "      <td>10.97</td>\n",
       "    </tr>\n",
       "    <tr>\n",
       "      <th>...</th>\n",
       "      <td>...</td>\n",
       "    </tr>\n",
       "    <tr>\n",
       "      <th>3192</th>\n",
       "      <td>14.00</td>\n",
       "    </tr>\n",
       "    <tr>\n",
       "      <th>3193</th>\n",
       "      <td>23.04</td>\n",
       "    </tr>\n",
       "    <tr>\n",
       "      <th>3194</th>\n",
       "      <td>10.00</td>\n",
       "    </tr>\n",
       "    <tr>\n",
       "      <th>3195</th>\n",
       "      <td>10.00</td>\n",
       "    </tr>\n",
       "    <tr>\n",
       "      <th>3196</th>\n",
       "      <td>6.57</td>\n",
       "    </tr>\n",
       "  </tbody>\n",
       "</table>\n",
       "<p>3197 rows × 1 columns</p>\n",
       "</div>"
      ],
      "text/plain": [
       "      compositeHourlyWages\n",
       "0                    21.38\n",
       "1                    25.15\n",
       "2                     8.57\n",
       "3                    12.07\n",
       "4                    10.97\n",
       "...                    ...\n",
       "3192                 14.00\n",
       "3193                 23.04\n",
       "3194                 10.00\n",
       "3195                 10.00\n",
       "3196                  6.57\n",
       "\n",
       "[3197 rows x 1 columns]"
      ]
     },
     "execution_count": 61,
     "metadata": {},
     "output_type": "execute_result"
    }
   ],
   "source": [
    "y"
   ]
  },
  {
   "cell_type": "code",
   "execution_count": 62,
   "id": "d1f811c1-6eaf-4ef2-ae4b-17b50107e0cc",
   "metadata": {},
   "outputs": [],
   "source": [
    "X_train, X_test, y_train, y_test = train_test_split( X, y, test_size=0.33, random_state=42)"
   ]
  },
  {
   "cell_type": "code",
   "execution_count": 63,
   "id": "9fbaf2bf-1fad-42a2-a9ee-9441f9630552",
   "metadata": {},
   "outputs": [],
   "source": [
    "shape_input = X_train.shape\n",
    "shape_input = shape_input[1]\n",
    "\n"
   ]
  },
  {
   "cell_type": "code",
   "execution_count": 73,
   "id": "0e338f3e-ea33-400c-a543-7e57c87012c0",
   "metadata": {},
   "outputs": [],
   "source": [
    "model = Sequential()\n",
    "model.add(Dense(10 , activation='relu',input_shape=(shape_input,)))\n",
    "model.add(Dense(10,activation = 'relu'))\n",
    "model.add(Dense(1))"
   ]
  },
  {
   "cell_type": "code",
   "execution_count": 74,
   "id": "55d74595-fd1e-499c-b6b6-4eb67147a4a8",
   "metadata": {},
   "outputs": [
    {
     "name": "stdout",
     "output_type": "stream",
     "text": [
      "Model: \"sequential_7\"\n",
      "_________________________________________________________________\n",
      "Layer (type)                 Output Shape              Param #   \n",
      "=================================================================\n",
      "dense_15 (Dense)             (None, 10)                40        \n",
      "_________________________________________________________________\n",
      "dense_16 (Dense)             (None, 10)                110       \n",
      "_________________________________________________________________\n",
      "dense_17 (Dense)             (None, 1)                 11        \n",
      "=================================================================\n",
      "Total params: 161\n",
      "Trainable params: 161\n",
      "Non-trainable params: 0\n",
      "_________________________________________________________________\n"
     ]
    }
   ],
   "source": [
    "model.summary()\n"
   ]
  },
  {
   "cell_type": "code",
   "execution_count": 84,
   "id": "d397a937-4fed-4bf9-a035-686eb9f4b99d",
   "metadata": {},
   "outputs": [],
   "source": [
    "# compile \n",
    "model.compile(optimizer='adam' ,loss='mean_squared_error',\n",
    "             metrics = ['accuracy'])\n",
    "\n",
    "earlystopmonitor = EarlyStopping(patience=3)"
   ]
  },
  {
   "cell_type": "code",
   "execution_count": 85,
   "id": "6c1ccb79-bee0-4a9c-b132-882c1cdf43e2",
   "metadata": {},
   "outputs": [
    {
     "name": "stdout",
     "output_type": "stream",
     "text": [
      "Epoch 1/30\n",
      "54/54 [==============================] - 1s 5ms/step - loss: 60.4756 - accuracy: 0.0000e+00 - val_loss: 63.1770 - val_accuracy: 0.0000e+00\n",
      "Epoch 2/30\n",
      "54/54 [==============================] - 0s 3ms/step - loss: 60.1128 - accuracy: 0.0000e+00 - val_loss: 62.9837 - val_accuracy: 0.0000e+00\n",
      "Epoch 3/30\n",
      "54/54 [==============================] - 0s 3ms/step - loss: 59.8774 - accuracy: 0.0000e+00 - val_loss: 62.8523 - val_accuracy: 0.0000e+00\n",
      "Epoch 4/30\n",
      "54/54 [==============================] - 0s 4ms/step - loss: 59.7436 - accuracy: 0.0000e+00 - val_loss: 62.7840 - val_accuracy: 0.0000e+00\n",
      "Epoch 5/30\n",
      "54/54 [==============================] - 0s 4ms/step - loss: 59.6521 - accuracy: 0.0000e+00 - val_loss: 62.7678 - val_accuracy: 0.0000e+00\n",
      "Epoch 6/30\n",
      "54/54 [==============================] - 0s 4ms/step - loss: 59.6107 - accuracy: 0.0000e+00 - val_loss: 62.7598 - val_accuracy: 0.0000e+00\n",
      "Epoch 7/30\n",
      "54/54 [==============================] - 0s 4ms/step - loss: 59.5898 - accuracy: 0.0000e+00 - val_loss: 62.7616 - val_accuracy: 0.0000e+00\n",
      "Epoch 8/30\n",
      "54/54 [==============================] - 0s 4ms/step - loss: 59.5765 - accuracy: 0.0000e+00 - val_loss: 62.7645 - val_accuracy: 0.0000e+00\n",
      "Epoch 9/30\n",
      "54/54 [==============================] - 0s 4ms/step - loss: 59.5714 - accuracy: 0.0000e+00 - val_loss: 62.7750 - val_accuracy: 0.0000e+00\n"
     ]
    },
    {
     "data": {
      "text/plain": [
       "<keras.callbacks.History at 0x7fecac1936a0>"
      ]
     },
     "execution_count": 85,
     "metadata": {},
     "output_type": "execute_result"
    }
   ],
   "source": [
    "model.fit(X_train, y_train, validation_split=0.2, epochs=30, callbacks=[earlystopmonitor])"
   ]
  },
  {
   "cell_type": "code",
   "execution_count": 86,
   "id": "9e684d3d-d761-4e8a-9f64-aa455e6c7062",
   "metadata": {},
   "outputs": [],
   "source": [
    "test_y_predictions = model.predict(X_test)"
   ]
  },
  {
   "cell_type": "code",
   "execution_count": 87,
   "id": "074409f0-88d3-42ae-aaa8-c3dd99af0fee",
   "metadata": {},
   "outputs": [
    {
     "data": {
      "text/plain": [
       "array([[15.516103],\n",
       "       [15.516103],\n",
       "       [15.516103],\n",
       "       ...,\n",
       "       [15.516103],\n",
       "       [15.516103],\n",
       "       [15.516103]], dtype=float32)"
      ]
     },
     "execution_count": 87,
     "metadata": {},
     "output_type": "execute_result"
    }
   ],
   "source": [
    "test_y_predictions"
   ]
  },
  {
   "cell_type": "code",
   "execution_count": 88,
   "id": "ca6019d1-6403-48bd-aadc-56857b3a9c12",
   "metadata": {},
   "outputs": [
    {
     "name": "stdout",
     "output_type": "stream",
     "text": [
      "Epoch 1/30\n",
      "22/22 [==============================] - 0s 5ms/step - loss: 60.2052 - accuracy: 0.0000e+00 - val_loss: 59.9455 - val_accuracy: 0.0000e+00\n",
      "Epoch 2/30\n",
      "22/22 [==============================] - 0s 2ms/step - loss: 60.2070 - accuracy: 0.0000e+00 - val_loss: 59.9444 - val_accuracy: 0.0000e+00\n",
      "Epoch 3/30\n",
      "22/22 [==============================] - 0s 2ms/step - loss: 60.2050 - accuracy: 0.0000e+00 - val_loss: 59.9449 - val_accuracy: 0.0000e+00\n",
      "Epoch 4/30\n",
      "22/22 [==============================] - 0s 2ms/step - loss: 60.2074 - accuracy: 0.0000e+00 - val_loss: 59.9453 - val_accuracy: 0.0000e+00\n",
      "Epoch 5/30\n",
      "22/22 [==============================] - 0s 2ms/step - loss: 60.2047 - accuracy: 0.0000e+00 - val_loss: 59.9451 - val_accuracy: 0.0000e+00\n",
      "Epoch 6/30\n",
      "22/22 [==============================] - 0s 4ms/step - loss: 60.2051 - accuracy: 0.0000e+00 - val_loss: 59.9444 - val_accuracy: 0.0000e+00\n",
      "Epoch 7/30\n",
      "22/22 [==============================] - 0s 6ms/step - loss: 60.2053 - accuracy: 0.0000e+00 - val_loss: 59.9441 - val_accuracy: 0.0000e+00\n",
      "Epoch 8/30\n",
      "22/22 [==============================] - 0s 6ms/step - loss: 60.2049 - accuracy: 0.0000e+00 - val_loss: 59.9445 - val_accuracy: 0.0000e+00\n",
      "Epoch 9/30\n",
      "22/22 [==============================] - 0s 6ms/step - loss: 60.2058 - accuracy: 0.0000e+00 - val_loss: 59.9442 - val_accuracy: 0.0000e+00\n",
      "Epoch 10/30\n",
      "22/22 [==============================] - 0s 6ms/step - loss: 60.2090 - accuracy: 0.0000e+00 - val_loss: 59.9455 - val_accuracy: 0.0000e+00\n",
      "Epoch 11/30\n",
      "22/22 [==============================] - 0s 6ms/step - loss: 60.2048 - accuracy: 0.0000e+00 - val_loss: 59.9448 - val_accuracy: 0.0000e+00\n",
      "Epoch 12/30\n",
      "22/22 [==============================] - 0s 6ms/step - loss: 60.2040 - accuracy: 0.0000e+00 - val_loss: 59.9447 - val_accuracy: 0.0000e+00\n",
      "Epoch 13/30\n",
      "22/22 [==============================] - 0s 6ms/step - loss: 60.2044 - accuracy: 0.0000e+00 - val_loss: 59.9447 - val_accuracy: 0.0000e+00\n",
      "Epoch 14/30\n",
      "22/22 [==============================] - 0s 6ms/step - loss: 60.2058 - accuracy: 0.0000e+00 - val_loss: 59.9441 - val_accuracy: 0.0000e+00\n",
      "Epoch 15/30\n",
      "22/22 [==============================] - 0s 6ms/step - loss: 60.2039 - accuracy: 0.0000e+00 - val_loss: 59.9444 - val_accuracy: 0.0000e+00\n",
      "Epoch 16/30\n",
      "22/22 [==============================] - 0s 6ms/step - loss: 60.2065 - accuracy: 0.0000e+00 - val_loss: 59.9440 - val_accuracy: 0.0000e+00\n",
      "Epoch 17/30\n",
      "22/22 [==============================] - 0s 6ms/step - loss: 60.2048 - accuracy: 0.0000e+00 - val_loss: 59.9445 - val_accuracy: 0.0000e+00\n",
      "Epoch 18/30\n",
      "22/22 [==============================] - 0s 6ms/step - loss: 60.2048 - accuracy: 0.0000e+00 - val_loss: 59.9443 - val_accuracy: 0.0000e+00\n",
      "Epoch 19/30\n",
      "22/22 [==============================] - 0s 6ms/step - loss: 60.2067 - accuracy: 0.0000e+00 - val_loss: 59.9438 - val_accuracy: 0.0000e+00\n",
      "Epoch 20/30\n",
      "22/22 [==============================] - 0s 6ms/step - loss: 60.2101 - accuracy: 0.0000e+00 - val_loss: 59.9447 - val_accuracy: 0.0000e+00\n",
      "Epoch 21/30\n",
      "22/22 [==============================] - 0s 6ms/step - loss: 60.2055 - accuracy: 0.0000e+00 - val_loss: 59.9440 - val_accuracy: 0.0000e+00\n",
      "Epoch 22/30\n",
      "22/22 [==============================] - 0s 6ms/step - loss: 60.2041 - accuracy: 0.0000e+00 - val_loss: 59.9439 - val_accuracy: 0.0000e+00\n",
      "Epoch 23/30\n",
      "22/22 [==============================] - 0s 6ms/step - loss: 60.2054 - accuracy: 0.0000e+00 - val_loss: 59.9441 - val_accuracy: 0.0000e+00\n",
      "Epoch 24/30\n",
      "22/22 [==============================] - 0s 6ms/step - loss: 60.2039 - accuracy: 0.0000e+00 - val_loss: 59.9442 - val_accuracy: 0.0000e+00\n",
      "Epoch 25/30\n",
      "22/22 [==============================] - 0s 6ms/step - loss: 60.2051 - accuracy: 0.0000e+00 - val_loss: 59.9439 - val_accuracy: 0.0000e+00\n",
      "Epoch 26/30\n",
      "22/22 [==============================] - 0s 6ms/step - loss: 60.2041 - accuracy: 0.0000e+00 - val_loss: 59.9442 - val_accuracy: 0.0000e+00\n",
      "Epoch 27/30\n",
      "22/22 [==============================] - 0s 6ms/step - loss: 60.2045 - accuracy: 0.0000e+00 - val_loss: 59.9440 - val_accuracy: 0.0000e+00\n",
      "Epoch 28/30\n",
      "22/22 [==============================] - 0s 6ms/step - loss: 60.2062 - accuracy: 0.0000e+00 - val_loss: 59.9444 - val_accuracy: 0.0000e+00\n",
      "Epoch 29/30\n",
      "22/22 [==============================] - 0s 6ms/step - loss: 60.2038 - accuracy: 0.0000e+00 - val_loss: 59.9441 - val_accuracy: 0.0000e+00\n",
      "Epoch 30/30\n",
      "22/22 [==============================] - 0s 3ms/step - loss: 60.2062 - accuracy: 0.0000e+00 - val_loss: 59.9440 - val_accuracy: 0.0000e+00\n"
     ]
    }
   ],
   "source": [
    "history = model.fit(X_train, y_train ,\n",
    "            batch_size = 100,\n",
    "            epochs=30,\n",
    "            verbose=1,\n",
    "                    validation_data=(X_test,y_test)\n",
    "                   )"
   ]
  },
  {
   "cell_type": "code",
   "execution_count": 90,
   "id": "7ccf706b-8f12-4693-a80d-ae65a600fbcd",
   "metadata": {},
   "outputs": [
    {
     "name": "stdout",
     "output_type": "stream",
     "text": [
      "33/33 [==============================] - 0s 1ms/step - loss: 59.9440 - accuracy: 0.0000e+00\n"
     ]
    }
   ],
   "source": [
    "score = model.evaluate(X_test, y_test)"
   ]
  },
  {
   "cell_type": "code",
   "execution_count": null,
   "id": "06b70ee5-8bcf-45fa-97af-b06440f09676",
   "metadata": {},
   "outputs": [],
   "source": []
  }
 ],
 "metadata": {
  "kernelspec": {
   "display_name": "Python 3 (ipykernel)",
   "language": "python",
   "name": "python3"
  },
  "language_info": {
   "codemirror_mode": {
    "name": "ipython",
    "version": 3
   },
   "file_extension": ".py",
   "mimetype": "text/x-python",
   "name": "python",
   "nbconvert_exporter": "python",
   "pygments_lexer": "ipython3",
   "version": "3.8.11"
  }
 },
 "nbformat": 4,
 "nbformat_minor": 5
}
